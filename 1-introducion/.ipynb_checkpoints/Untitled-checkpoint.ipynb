{
 "cells": [
  {
   "cell_type": "code",
   "execution_count": null,
   "metadata": {
    "collapsed": true
   },
   "outputs": [],
   "source": [
    "%matplotlib inline\n",
    "%pprint off\n",
    "\n",
    "# Matplotlib library\n",
    "import matplotlib.pyplot as plt\n",
    "from matplotlib import cm\n",
    "\n",
    "# Numpy library\n",
    "import numpy as np\n",
    "\n",
    "# Image in skimage\n",
    "from skimage import io"
   ]
  },
  {
   "cell_type": "markdown",
   "metadata": {},
   "source": [
    "# imread, imshow"
   ]
  },
  {
   "cell_type": "code",
   "execution_count": null,
   "metadata": {
    "collapsed": true
   },
   "outputs": [],
   "source": [
    "# Just to not make any mistakes the path is given here\n",
    "filename = './images/lena-grey.bmp'\n",
    "\n",
    "# Now read the image and display it\n",
    "lena_im = io.imread(filename)\n",
    "\n",
    "# Show Lena\n",
    "io.imshow(lena_im)"
   ]
  },
  {
   "cell_type": "markdown",
   "metadata": {},
   "source": [
    "# Data type and image size "
   ]
  },
  {
   "cell_type": "code",
   "execution_count": null,
   "metadata": {
    "collapsed": true
   },
   "outputs": [],
   "source": [
    "# Print information about the shape of the image\n",
    "print 'The shape of the image is {} and the data type is {}'.format(lena_im.shape, lena_im.dtype)"
   ]
  },
  {
   "cell_type": "markdown",
   "metadata": {},
   "source": [
    "# Showing images using plt library"
   ]
  },
  {
   "cell_type": "code",
   "execution_count": null,
   "metadata": {
    "collapsed": true
   },
   "outputs": [],
   "source": [
    "# Show the same image using matplotlib library\n",
    "plt.imshow(lena_im)"
   ]
  },
  {
   "cell_type": "code",
   "execution_count": null,
   "metadata": {
    "collapsed": true
   },
   "outputs": [],
   "source": [
    "# Show the same image using matplotlib library and a grey colormap\n",
    "plt.imshow(lena_im, cmap=cm.Greys_r)"
   ]
  },
  {
   "cell_type": "code",
   "execution_count": null,
   "metadata": {
    "collapsed": true
   },
   "outputs": [],
   "source": [
    "# Read the Vibot image which is a color image\n",
    "filename = './images/vibot-color.jpg'\n",
    "vibot_im = io.imread(filename)\n",
    "\n",
    "# Print information about the shape of the image and type\n",
    "print 'The shape of the image is {} and the data type is {}'.format(vibot_im.shape, vibot_im.dtype)\n",
    "\n",
    "# Show the image\n",
    "io.imshow(vibot_im)"
   ]
  },
  {
   "cell_type": "code",
   "execution_count": null,
   "metadata": {
    "collapsed": true
   },
   "outputs": [],
   "source": [
    "# Read the Vibot image which is a color image\n",
    "filename = './images/vibot-color.jpg'\n",
    "vibot_im = io.imread(filename, as_grey=True)\n",
    "\n",
    "# Print information about the shape of the image and type\n",
    "print 'The shape of the image is {} and the data type is {}'.format(vibot_im.shape, vibot_im.dtype)\n",
    "\n",
    "# Show the image\n",
    "io.imshow(vibot_im)"
   ]
  },
  {
   "cell_type": "markdown",
   "metadata": {},
   "source": [
    "# Changing the type of the image from uint8 to float(double)"
   ]
  },
  {
   "cell_type": "code",
   "execution_count": null,
   "metadata": {
    "collapsed": true
   },
   "outputs": [],
   "source": [
    "# Just to not make any mistakes the path is given here\n",
    "filename = './images/lena-grey.bmp'\n",
    "\n",
    "# Now read the image and display it\n",
    "lena_im = io.imread(filename)\n",
    "\n",
    "# Print information about the shape of the image\n",
    "print 'The shape of the image is {} and the data type is {}'.format(lena_im.shape, lena_im.dtype)\n",
    "\n",
    "print lena_im"
   ]
  },
  {
   "cell_type": "code",
   "execution_count": null,
   "metadata": {
    "collapsed": true
   },
   "outputs": [],
   "source": [
    "# Import the utility function\n",
    "from skimage import img_as_float\n",
    "\n",
    "# Make the conversion\n",
    "lena_im_float = img_as_float(lena_im)\n",
    "\n",
    "# Print information about the shape of the image\n",
    "print 'The shape of the image is {} and the data type is {}'.format(lena_im_float.shape, lena_im_float.dtype)\n",
    "\n",
    "print lena_im_float"
   ]
  },
  {
   "cell_type": "markdown",
   "metadata": {},
   "source": [
    "# Saving an image"
   ]
  },
  {
   "cell_type": "code",
   "execution_count": null,
   "metadata": {
    "collapsed": true
   },
   "outputs": [],
   "source": [
    "io.imsave('images/lena_float.png', lena_im_float)"
   ]
  },
  {
   "cell_type": "markdown",
   "metadata": {},
   "source": [
    "# plot_img_and_hist function"
   ]
  },
  {
   "cell_type": "code",
   "execution_count": null,
   "metadata": {
    "collapsed": true
   },
   "outputs": [],
   "source": [
    "from skimage import data, img_as_float\n",
    "from skimage import exposure\n",
    "\n",
    "def plot_img_and_hist(img, axes, bins=256):\n",
    "    \"\"\"Plot an image along with its histogram.\n",
    "\n",
    "    \"\"\"\n",
    "    img = img_as_float(img)\n",
    "    ax_img, ax_hist = axes\n",
    "    \n",
    "    # Display image\n",
    "    ax_img.imshow(img, cmap=plt.cm.gray)\n",
    "    ax_img.set_axis_off()\n",
    "    ax_img.set_adjustable('box-forced')\n",
    "\n",
    "    # Display histogram\n",
    "    ax_hist.hist(img.ravel(), bins=bins, histtype='step', color='black')\n",
    "    ax_hist.ticklabel_format(axis='y', style='scientific', scilimits=(0, 0))\n",
    "    ax_hist.set_xlabel('Pixel intensity')\n",
    "    ax_hist.set_xlim(0, 1)\n",
    "    ax_hist.set_yticks([])\n",
    "\n",
    "\n",
    "    return  ax_img, ax_hist    \n",
    "    \n"
   ]
  },
  {
   "cell_type": "markdown",
   "metadata": {},
   "source": [
    "# showing the image and its histogram "
   ]
  },
  {
   "cell_type": "code",
   "execution_count": null,
   "metadata": {
    "collapsed": true
   },
   "outputs": [],
   "source": [
    "# Display figures\n",
    "fig = plt.figure(figsize=(8, 5))\n",
    "# Creating the axes with two subplot\n",
    "axes = np.zeros((2,1), dtype=np.object)\n",
    "axes[0,0] = fig.add_subplot(2, 1, 1)\n",
    "axes[1,0] = fig.add_subplot(2, 1, 2)\n",
    "\n",
    "### Now show the histogram of lena_im using the created axes (axes[:,0])\n",
    "##...\n",
    "ax_img, ax_hist = plot_img_and_hist(lena_im, axes[:,0])"
   ]
  }
 ],
 "metadata": {
  "kernelspec": {
   "display_name": "Python 2",
   "language": "python",
   "name": "python2"
  },
  "language_info": {
   "codemirror_mode": {
    "name": "ipython",
    "version": 2
   },
   "file_extension": ".py",
   "mimetype": "text/x-python",
   "name": "python",
   "nbconvert_exporter": "python",
   "pygments_lexer": "ipython2",
   "version": "2.7.11"
  }
 },
 "nbformat": 4,
 "nbformat_minor": 0
}
